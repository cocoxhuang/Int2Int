{
 "cells": [
  {
   "cell_type": "code",
   "execution_count": 1,
   "id": "f5636882",
   "metadata": {},
   "outputs": [],
   "source": [
    "import out_analysis\n",
    "from sage.all import DyckWord"
   ]
  },
  {
   "cell_type": "code",
   "execution_count": 2,
   "id": "7c5c203d",
   "metadata": {},
   "outputs": [],
   "source": [
    "exp_id = 1\n",
    "int2int_out_path = f\"../results/qtCat/{exp_id}/output.txt\"\n",
    "df = out_analysis.decode_output_to_dataframe(int2int_out_path)[1:]"
   ]
  },
  {
   "cell_type": "code",
   "execution_count": 9,
   "id": "64c3709f",
   "metadata": {},
   "outputs": [
    {
     "data": {
      "text/html": [
       "<div>\n",
       "<style scoped>\n",
       "    .dataframe tbody tr th:only-of-type {\n",
       "        vertical-align: middle;\n",
       "    }\n",
       "\n",
       "    .dataframe tbody tr th {\n",
       "        vertical-align: top;\n",
       "    }\n",
       "\n",
       "    .dataframe thead th {\n",
       "        text-align: right;\n",
       "    }\n",
       "</style>\n",
       "<table border=\"1\" class=\"dataframe\">\n",
       "  <thead>\n",
       "    <tr style=\"text-align: right;\">\n",
       "      <th></th>\n",
       "      <th>input</th>\n",
       "      <th>predict</th>\n",
       "      <th>target</th>\n",
       "    </tr>\n",
       "  </thead>\n",
       "  <tbody>\n",
       "    <tr>\n",
       "      <th>1</th>\n",
       "      <td>1,1,1,0,0,1,1,1,1,0,0,0,1,1,0,1,1,0,0,0,0,0</td>\n",
       "      <td>1,0,0,1,1,0,1,0,0,1,0,1,1,0,0,1,0,1,0,0,1,0</td>\n",
       "      <td>1,1,0,1,1,0,1,0,0,1,0,1,1,0,0,1,0,1,0,0,1,0</td>\n",
       "    </tr>\n",
       "    <tr>\n",
       "      <th>2</th>\n",
       "      <td>1,1,0,1,0,1,1,0,1,1,0,1,0,1,0,1,0,0,0,1,0,0</td>\n",
       "      <td>1,1,1,1,0,0,0,0,1,1,1,0,0,1,1,1,0,0,0,0,1,0</td>\n",
       "      <td>1,1,1,1,0,0,0,0,1,1,1,0,0,1,1,1,0,0,0,0,1,0</td>\n",
       "    </tr>\n",
       "    <tr>\n",
       "      <th>3</th>\n",
       "      <td>1,1,0,0,1,0,1,0,1,0,1,1,1,0,1,1,0,0,0,0,1,0</td>\n",
       "      <td>1,0,1,1,0,0,1,1,1,0,1,1,1,1,0,1,0,0,0,0,0,0</td>\n",
       "      <td>1,0,1,1,0,0,1,1,1,0,1,1,1,1,0,1,0,0,0,0,0,0</td>\n",
       "    </tr>\n",
       "    <tr>\n",
       "      <th>4</th>\n",
       "      <td>1,1,0,0,1,1,1,0,0,1,0,1,0,1,1,1,0,0,1,0,0,0</td>\n",
       "      <td>1,1,0,1,1,0,0,1,1,1,0,1,1,0,0,0,0,1,0,1,0,0</td>\n",
       "      <td>1,1,0,1,1,0,0,1,1,1,0,1,1,0,0,0,0,1,0,1,0,0</td>\n",
       "    </tr>\n",
       "    <tr>\n",
       "      <th>5</th>\n",
       "      <td>1,1,0,1,1,1,0,0,1,1,0,0,0,1,0,1,0,0,1,1,0,0</td>\n",
       "      <td>1,1,0,1,0,1,1,1,1,0,0,1,1,0,1,0,0,0,0,1,0,0</td>\n",
       "      <td>1,1,0,1,0,1,1,1,1,0,0,1,1,0,1,0,0,0,0,1,0,0</td>\n",
       "    </tr>\n",
       "    <tr>\n",
       "      <th>...</th>\n",
       "      <td>...</td>\n",
       "      <td>...</td>\n",
       "      <td>...</td>\n",
       "    </tr>\n",
       "    <tr>\n",
       "      <th>996</th>\n",
       "      <td>1,1,0,1,1,0,0,1,1,0,1,0,0,0,1,1,1,1,0,0,0,0</td>\n",
       "      <td>1,0,1,1,1,1,0,1,0,0,1,0,1,1,0,1,0,0,0,1,0,0</td>\n",
       "      <td>1,0,1,1,1,1,0,1,0,0,1,0,1,1,0,1,0,0,0,1,0,0</td>\n",
       "    </tr>\n",
       "    <tr>\n",
       "      <th>997</th>\n",
       "      <td>1,1,1,1,0,0,1,1,0,1,0,0,1,0,0,1,1,0,1,0,0,0</td>\n",
       "      <td>1,1,1,1,1,1,0,0,1,0,1,0,0,1,0,0,0,1,0,0,1,0</td>\n",
       "      <td>1,1,1,1,1,1,0,0,1,0,1,0,0,1,0,0,0,1,0,0,1,0</td>\n",
       "    </tr>\n",
       "    <tr>\n",
       "      <th>998</th>\n",
       "      <td>1,1,1,0,1,0,1,0,1,1,0,1,0,0,0,0,1,1,0,0,1,0</td>\n",
       "      <td>1,1,0,0,1,1,1,1,1,0,0,0,0,1,1,0,1,0,1,0,0,0</td>\n",
       "      <td>1,1,0,0,1,1,1,1,1,0,0,0,0,1,1,0,1,0,1,0,0,0</td>\n",
       "    </tr>\n",
       "    <tr>\n",
       "      <th>999</th>\n",
       "      <td>1,1,0,1,1,0,1,1,0,0,1,0,0,1,1,0,0,0,1,0,1,0</td>\n",
       "      <td>1,1,1,0,1,1,0,1,0,0,0,1,1,1,1,0,0,0,1,0,0,0</td>\n",
       "      <td>1,1,1,0,1,1,0,1,0,0,0,1,1,1,1,0,0,0,1,0,0,0</td>\n",
       "    </tr>\n",
       "    <tr>\n",
       "      <th>1000</th>\n",
       "      <td>1,0,1,0,1,1,0,1,0,1,1,0,0,1,0,0,1,1,0,1,0,0</td>\n",
       "      <td>1,1,1,1,0,1,1,1,0,0,1,0,0,0,0,1,1,1,0,0,0,0</td>\n",
       "      <td>1,1,1,1,0,1,1,1,0,0,1,0,0,0,0,1,1,1,0,0,0,0</td>\n",
       "    </tr>\n",
       "  </tbody>\n",
       "</table>\n",
       "<p>1000 rows × 3 columns</p>\n",
       "</div>"
      ],
      "text/plain": [
       "                                            input  \\\n",
       "1     1,1,1,0,0,1,1,1,1,0,0,0,1,1,0,1,1,0,0,0,0,0   \n",
       "2     1,1,0,1,0,1,1,0,1,1,0,1,0,1,0,1,0,0,0,1,0,0   \n",
       "3     1,1,0,0,1,0,1,0,1,0,1,1,1,0,1,1,0,0,0,0,1,0   \n",
       "4     1,1,0,0,1,1,1,0,0,1,0,1,0,1,1,1,0,0,1,0,0,0   \n",
       "5     1,1,0,1,1,1,0,0,1,1,0,0,0,1,0,1,0,0,1,1,0,0   \n",
       "...                                           ...   \n",
       "996   1,1,0,1,1,0,0,1,1,0,1,0,0,0,1,1,1,1,0,0,0,0   \n",
       "997   1,1,1,1,0,0,1,1,0,1,0,0,1,0,0,1,1,0,1,0,0,0   \n",
       "998   1,1,1,0,1,0,1,0,1,1,0,1,0,0,0,0,1,1,0,0,1,0   \n",
       "999   1,1,0,1,1,0,1,1,0,0,1,0,0,1,1,0,0,0,1,0,1,0   \n",
       "1000  1,0,1,0,1,1,0,1,0,1,1,0,0,1,0,0,1,1,0,1,0,0   \n",
       "\n",
       "                                          predict  \\\n",
       "1     1,0,0,1,1,0,1,0,0,1,0,1,1,0,0,1,0,1,0,0,1,0   \n",
       "2     1,1,1,1,0,0,0,0,1,1,1,0,0,1,1,1,0,0,0,0,1,0   \n",
       "3     1,0,1,1,0,0,1,1,1,0,1,1,1,1,0,1,0,0,0,0,0,0   \n",
       "4     1,1,0,1,1,0,0,1,1,1,0,1,1,0,0,0,0,1,0,1,0,0   \n",
       "5     1,1,0,1,0,1,1,1,1,0,0,1,1,0,1,0,0,0,0,1,0,0   \n",
       "...                                           ...   \n",
       "996   1,0,1,1,1,1,0,1,0,0,1,0,1,1,0,1,0,0,0,1,0,0   \n",
       "997   1,1,1,1,1,1,0,0,1,0,1,0,0,1,0,0,0,1,0,0,1,0   \n",
       "998   1,1,0,0,1,1,1,1,1,0,0,0,0,1,1,0,1,0,1,0,0,0   \n",
       "999   1,1,1,0,1,1,0,1,0,0,0,1,1,1,1,0,0,0,1,0,0,0   \n",
       "1000  1,1,1,1,0,1,1,1,0,0,1,0,0,0,0,1,1,1,0,0,0,0   \n",
       "\n",
       "                                           target  \n",
       "1     1,1,0,1,1,0,1,0,0,1,0,1,1,0,0,1,0,1,0,0,1,0  \n",
       "2     1,1,1,1,0,0,0,0,1,1,1,0,0,1,1,1,0,0,0,0,1,0  \n",
       "3     1,0,1,1,0,0,1,1,1,0,1,1,1,1,0,1,0,0,0,0,0,0  \n",
       "4     1,1,0,1,1,0,0,1,1,1,0,1,1,0,0,0,0,1,0,1,0,0  \n",
       "5     1,1,0,1,0,1,1,1,1,0,0,1,1,0,1,0,0,0,0,1,0,0  \n",
       "...                                           ...  \n",
       "996   1,0,1,1,1,1,0,1,0,0,1,0,1,1,0,1,0,0,0,1,0,0  \n",
       "997   1,1,1,1,1,1,0,0,1,0,1,0,0,1,0,0,0,1,0,0,1,0  \n",
       "998   1,1,0,0,1,1,1,1,1,0,0,0,0,1,1,0,1,0,1,0,0,0  \n",
       "999   1,1,1,0,1,1,0,1,0,0,0,1,1,1,1,0,0,0,1,0,0,0  \n",
       "1000  1,1,1,1,0,1,1,1,0,0,1,0,0,0,0,1,1,1,0,0,0,0  \n",
       "\n",
       "[1000 rows x 3 columns]"
      ]
     },
     "execution_count": 9,
     "metadata": {},
     "output_type": "execute_result"
    }
   ],
   "source": [
    "df"
   ]
  },
  {
   "cell_type": "code",
   "execution_count": 13,
   "id": "943eae18",
   "metadata": {},
   "outputs": [
    {
     "name": "stdout",
     "output_type": "stream",
     "text": [
      "Number of correct predictions: 970 out of 1000\n"
     ]
    }
   ],
   "source": [
    "# check how many predictions are correct\n",
    "print(f\"Number of correct predictions: {int((df['predict'] == df['target']).sum())} out of {len(df)}\")"
   ]
  },
  {
   "cell_type": "code",
   "execution_count": 4,
   "id": "c1065e33",
   "metadata": {},
   "outputs": [],
   "source": [
    "predcit = df[\"predict\"].tolist()\n",
    "# convert each string into a list\n",
    "predcit = [[int(step) for step in word.split(',')] for word in predcit]"
   ]
  },
  {
   "cell_type": "code",
   "execution_count": 5,
   "id": "6a2d1065",
   "metadata": {},
   "outputs": [
    {
     "name": "stdout",
     "output_type": "stream",
     "text": [
      "Total Dyck words: 1000, Invalid Dyck words: 15, Valid Dyck words: 985\n"
     ]
    }
   ],
   "source": [
    "# count how many are actually Dyck words\n",
    "invalid_count = 0\n",
    "tot = len(predcit)\n",
    "for word in predcit:\n",
    "    try:\n",
    "        DyckWord(word)\n",
    "    except ValueError as e:\n",
    "        if \"invalid Dyck word\" in str(e):\n",
    "            # print(f\"Invalid Dyck word: {word}\")\n",
    "            invalid_count += 1\n",
    "print(f\"Total Dyck words: {tot}, Invalid Dyck words: {invalid_count}, Valid Dyck words: {tot - invalid_count}\")"
   ]
  }
 ],
 "metadata": {
  "kernelspec": {
   "display_name": "sage",
   "language": "python",
   "name": "python3"
  },
  "language_info": {
   "codemirror_mode": {
    "name": "ipython",
    "version": 3
   },
   "file_extension": ".py",
   "mimetype": "text/x-python",
   "name": "python",
   "nbconvert_exporter": "python",
   "pygments_lexer": "ipython3",
   "version": "3.12.10"
  }
 },
 "nbformat": 4,
 "nbformat_minor": 5
}
